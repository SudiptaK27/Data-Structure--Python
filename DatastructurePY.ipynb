{
  "nbformat": 4,
  "nbformat_minor": 0,
  "metadata": {
    "colab": {
      "provenance": [],
      "toc_visible": true
    },
    "kernelspec": {
      "name": "python3",
      "display_name": "Python 3"
    },
    "language_info": {
      "name": "python"
    }
  },
  "cells": [
    {
      "cell_type": "markdown",
      "source": [
        "\n",
        "**Data Types and Structures Questions**"
      ],
      "metadata": {
        "id": "Trcdzn1r8gx0"
      }
    },
    {
      "cell_type": "markdown",
      "source": [
        "1. What are data structures, and why are they important?\n",
        "\n",
        "\n",
        "Ans>> Data structures are specialized formats for organizing, processing, and storing data. They are essential for writing efficient code, enabling faster data access, optimized memory usage, and improved scalability.\n",
        "Examples include lists, tuples, dictionaries, and sets in Python.\n",
        "\n",
        "2. Explain the difference between mutable and immutable data types with examples?\n",
        "\n",
        "\n",
        "Ans>> Mutable data types can be changed after creation.\n",
        "Example:\n"
      ],
      "metadata": {
        "id": "yqu4E5cyCFjv"
      }
    },
    {
      "cell_type": "code",
      "source": [
        "\n",
        "my_list = [1, 2, 3]\n",
        "my_list[0] = 10  # This is valid\n",
        "print(my_list)"
      ],
      "metadata": {
        "colab": {
          "base_uri": "https://localhost:8080/"
        },
        "id": "_twHaMB_DCj3",
        "outputId": "7f16df48-913d-4cf8-a15a-de45a50f5009"
      },
      "execution_count": null,
      "outputs": [
        {
          "output_type": "stream",
          "name": "stdout",
          "text": [
            "[10, 2, 3]\n"
          ]
        }
      ]
    },
    {
      "cell_type": "markdown",
      "source": [
        "Immutable data types cannot be changed once created.\n",
        "Example:\n",
        "\n"
      ],
      "metadata": {
        "id": "Jfbphtg9DjFM"
      }
    },
    {
      "cell_type": "code",
      "source": [
        "my_tuple = (1, 2, 3)\n",
        "my_tuple[0] = 10  # This will raise a TypeError\n",
        "print(my_tuple)"
      ],
      "metadata": {
        "colab": {
          "base_uri": "https://localhost:8080/",
          "height": 176
        },
        "id": "NHSboTgQDJSE",
        "outputId": "a6354f87-8b55-4f13-bd67-d0ca88606355"
      },
      "execution_count": null,
      "outputs": [
        {
          "output_type": "error",
          "ename": "TypeError",
          "evalue": "'tuple' object does not support item assignment",
          "traceback": [
            "\u001b[0;31m---------------------------------------------------------------------------\u001b[0m",
            "\u001b[0;31mTypeError\u001b[0m                                 Traceback (most recent call last)",
            "\u001b[0;32m<ipython-input-5-2527573948>\u001b[0m in \u001b[0;36m<cell line: 0>\u001b[0;34m()\u001b[0m\n\u001b[1;32m      1\u001b[0m \u001b[0mmy_tuple\u001b[0m \u001b[0;34m=\u001b[0m \u001b[0;34m(\u001b[0m\u001b[0;36m1\u001b[0m\u001b[0;34m,\u001b[0m \u001b[0;36m2\u001b[0m\u001b[0;34m,\u001b[0m \u001b[0;36m3\u001b[0m\u001b[0;34m)\u001b[0m\u001b[0;34m\u001b[0m\u001b[0;34m\u001b[0m\u001b[0m\n\u001b[0;32m----> 2\u001b[0;31m \u001b[0mmy_tuple\u001b[0m\u001b[0;34m[\u001b[0m\u001b[0;36m0\u001b[0m\u001b[0;34m]\u001b[0m \u001b[0;34m=\u001b[0m \u001b[0;36m10\u001b[0m  \u001b[0;31m# This will raise a TypeError\u001b[0m\u001b[0;34m\u001b[0m\u001b[0;34m\u001b[0m\u001b[0m\n\u001b[0m\u001b[1;32m      3\u001b[0m \u001b[0mprint\u001b[0m\u001b[0;34m(\u001b[0m\u001b[0mmy_tuple\u001b[0m\u001b[0;34m)\u001b[0m\u001b[0;34m\u001b[0m\u001b[0;34m\u001b[0m\u001b[0m\n",
            "\u001b[0;31mTypeError\u001b[0m: 'tuple' object does not support item assignment"
          ]
        }
      ]
    },
    {
      "cell_type": "markdown",
      "source": [
        "3. What are the main differences between lists and tuples in Python?\n",
        "\n",
        "Ans>>Lists and tuples are both sequence data types in Python that can store a collection of items. However, they have several key differences:\n",
        "\n",
        "Mutability:\n",
        "Lists are mutable, meaning their contents can be changed after creation (e.g., adding, removing, or modifying elements).\n",
        "Tuples are immutable, so once they are created, their contents cannot be changed.\n",
        "\n",
        "Syntax:\n",
        "Lists are defined using square brackets, e.g., [1, 2, 3].\n",
        "Tuples are defined using parentheses, e.g., (1, 2, 3).\n",
        "\n",
        "Performance:\n",
        "Tuples generally have slightly better performance than lists due to their immutability and fixed size, making them faster to access and iterate over.\n",
        "\n",
        "Use Case:\n",
        "Lists are ideal for storing dynamic data that might need to change during execution.\n",
        "Tuples are preferred when storing constant data that should remain unchanged, or when using as keys in dictionaries due to their immutability."
      ],
      "metadata": {
        "id": "hrnXs1Q_D4Y2"
      }
    },
    {
      "cell_type": "markdown",
      "source": [
        "4. Describe how dictionaries store data?\n",
        "\n",
        "Ans>> Dictionaries store data as key-value pairs using a hash table under the hood. Each key is hashed, and the hash determines where the value is stored in memory, allowing for fast lookup, insertion, and deletion operations.\n",
        "\n",
        "Example:"
      ],
      "metadata": {
        "id": "_0PEm65JEW8t"
      }
    },
    {
      "cell_type": "code",
      "source": [
        "dict1 = {\"Name\":\"John\", \"Age\":25, \"City\":\"New York\"}\n",
        "print(dict1)"
      ],
      "metadata": {
        "colab": {
          "base_uri": "https://localhost:8080/"
        },
        "id": "ze7UkkYpEuw_",
        "outputId": "d6f79ed9-ca24-4f6a-856c-39c1ee8090e4"
      },
      "execution_count": null,
      "outputs": [
        {
          "output_type": "stream",
          "name": "stdout",
          "text": [
            "{'Name': 'John', 'Age': 25, 'City': 'New York'}\n"
          ]
        }
      ]
    },
    {
      "cell_type": "markdown",
      "source": [
        "5. Why might you use a set instead of a list in Python?\n",
        "\n",
        "Ans>>Sets are used when:\n",
        "\n",
        "Duplicate values must be eliminated.\n",
        "\n",
        "Fast membership testing is needed (average time complexity: O(1)).\n",
        "They are unordered and do not maintain duplicates."
      ],
      "metadata": {
        "id": "SpPOb4EDFnbR"
      }
    },
    {
      "cell_type": "markdown",
      "source": [
        "6. What is a string in Python, and how is it different from a list?\n",
        "\n",
        "Ans>>A string is an immutable sequence of characters. Unlike lists, which can contain elements of various data types and be modified, strings can only contain characters and cannot be altered after creation.\n",
        "Example:\n",
        "\n"
      ],
      "metadata": {
        "id": "m1f4kG_bGyFT"
      }
    },
    {
      "cell_type": "code",
      "source": [
        "\n",
        "string = \"hello\"\n",
        "string[0] = \"H\"  # Invalid"
      ],
      "metadata": {
        "colab": {
          "base_uri": "https://localhost:8080/",
          "height": 158
        },
        "id": "gySWHxBXHdoH",
        "outputId": "42121f91-fb72-4f8c-b21b-e8e52e89edfe"
      },
      "execution_count": null,
      "outputs": [
        {
          "output_type": "error",
          "ename": "TypeError",
          "evalue": "'str' object does not support item assignment",
          "traceback": [
            "\u001b[0;31m---------------------------------------------------------------------------\u001b[0m",
            "\u001b[0;31mTypeError\u001b[0m                                 Traceback (most recent call last)",
            "\u001b[0;32m<ipython-input-10-345247541>\u001b[0m in \u001b[0;36m<cell line: 0>\u001b[0;34m()\u001b[0m\n\u001b[1;32m      1\u001b[0m \u001b[0mstring\u001b[0m \u001b[0;34m=\u001b[0m \u001b[0;34m\"hello\"\u001b[0m\u001b[0;34m\u001b[0m\u001b[0;34m\u001b[0m\u001b[0m\n\u001b[0;32m----> 2\u001b[0;31m \u001b[0mstring\u001b[0m\u001b[0;34m[\u001b[0m\u001b[0;36m0\u001b[0m\u001b[0;34m]\u001b[0m \u001b[0;34m=\u001b[0m \u001b[0;34m\"H\"\u001b[0m  \u001b[0;31m# Invalid\u001b[0m\u001b[0;34m\u001b[0m\u001b[0;34m\u001b[0m\u001b[0m\n\u001b[0m",
            "\u001b[0;31mTypeError\u001b[0m: 'str' object does not support item assignment"
          ]
        }
      ]
    },
    {
      "cell_type": "markdown",
      "source": [
        "7. How do tuples ensure data integrity in Python?\n",
        "\n",
        "Ans>> Tuples are immutable, meaning their elements cannot be modified once assigned. This immutability ensures data integrity by preventing accidental changes, making tuples suitable for fixed collections of items like coordinates or configuration values.\n",
        "\n"
      ],
      "metadata": {
        "id": "V8MjJPFAHn3Y"
      }
    },
    {
      "cell_type": "markdown",
      "source": [
        "8. What is a hash table, and how does it relate to dictionaries in Python?\n",
        "\n",
        "Ans>> A hash table is a data structure that maps keys to values using a hash function. Python dictionaries are implemented using hash tables, enabling constant-time complexity (on average) for data retrieval, insertion, and deletion.\n",
        "\n"
      ],
      "metadata": {
        "id": "SGkAQxWwMtEn"
      }
    },
    {
      "cell_type": "markdown",
      "source": [
        "9. Can lists contain different data types in Python?\n",
        "\n",
        "Ans>>Yes. Python lists are heterogeneous, meaning they can store elements of different data types.\n",
        "Example:\n",
        "\n"
      ],
      "metadata": {
        "id": "4nvLi5eIh8cu"
      }
    },
    {
      "cell_type": "code",
      "source": [
        "\n",
        "\n",
        "my_list = [1, \"text\", 3.14, True]\n",
        "print(my_list)"
      ],
      "metadata": {
        "id": "5z6XYHwYHeWa",
        "colab": {
          "base_uri": "https://localhost:8080/"
        },
        "outputId": "1ce9c9eb-c4a3-4aae-ca28-a4dbf1747863"
      },
      "execution_count": null,
      "outputs": [
        {
          "output_type": "stream",
          "name": "stdout",
          "text": [
            "[1, 'text', 3.14, True]\n"
          ]
        }
      ]
    },
    {
      "cell_type": "markdown",
      "source": [
        "10. Explain why strings are immutable in Python?\n",
        "\n",
        "Ans>> Strings are immutable to:\n",
        "\n",
        "1.Ensure thread safety\n",
        "2.Allow reuse through string interning\n",
        "3.Enable their use as keys in dictionaries (hashable)\n",
        "\n",
        "\n",
        "\n",
        "\n",
        "\n",
        "\n",
        "\n",
        "\n",
        "\n",
        "\n",
        "\n"
      ],
      "metadata": {
        "id": "unkoXb5XiTiC"
      }
    },
    {
      "cell_type": "markdown",
      "source": [
        "11. What advantages do dictionaries offer over lists for certain tasks?\n",
        "\n",
        "Ans>>\n",
        "\n",
        "*  Faster lookup and access time via keys\n",
        "*  More semantic clarity through key-value associations\n",
        "*  Efficient for representing structured data\n",
        "\n",
        "\n",
        "\n",
        "\n",
        "\n",
        "\n",
        "\n"
      ],
      "metadata": {
        "id": "6NxvmcAljj7C"
      }
    },
    {
      "cell_type": "markdown",
      "source": [
        "12. Describe a scenario where using a tuple would be preferable over a list?\n",
        "\n",
        "Ans>>Tuples are preferable when the data should not change, such as:\n",
        "\n",
        "* Returning multiple values from a function\n",
        "* Storing fixed configuration settings\n",
        "* Using as keys in dictionaries (due to immutability)\n",
        "\n",
        "\n",
        "\n",
        "\n",
        "\n",
        "\n",
        "\n",
        "\n",
        "\n",
        "\n",
        "\n"
      ],
      "metadata": {
        "id": "vsjeUJJvksUS"
      }
    },
    {
      "cell_type": "markdown",
      "source": [
        "13. How do sets handle duplicate values in Python?\n",
        "\n",
        "Ans>> Sets automatically remove duplicate values. When you convert a list with duplicates into a set, only unique values are retained.\n",
        "Example:\n"
      ],
      "metadata": {
        "id": "kd8uPN6Jlaiw"
      }
    },
    {
      "cell_type": "code",
      "source": [
        "my_set = set([1, 2, 2, 3])\n",
        "print(my_set)  # Output: {1, 2, 3}\n",
        "\n",
        "\n"
      ],
      "metadata": {
        "colab": {
          "base_uri": "https://localhost:8080/"
        },
        "id": "guykhfOUiRYv",
        "outputId": "077e3184-8ae5-415c-8e01-7adceeb5bd55"
      },
      "execution_count": null,
      "outputs": [
        {
          "output_type": "stream",
          "name": "stdout",
          "text": [
            "{1, 2, 3}\n"
          ]
        }
      ]
    },
    {
      "cell_type": "markdown",
      "source": [
        "14.  How does the “in” keyword work differently for lists and dictionaries?\n",
        "\n",
        "Ans>> For lists, in checks if a value exists.\n",
        "For dictionaries, in checks if a key exists.\n",
        "\n",
        "\n"
      ],
      "metadata": {
        "id": "8EW_5kAtnC_s"
      }
    },
    {
      "cell_type": "code",
      "source": [
        "3 in [1, 2, 3]  # True\n",
        "'name' in {'name': 'Alice'}  # True\n"
      ],
      "metadata": {
        "colab": {
          "base_uri": "https://localhost:8080/"
        },
        "id": "qkgq1hoZlzBY",
        "outputId": "913e8530-ac41-469e-ccb5-bb2d0f78b0d8"
      },
      "execution_count": null,
      "outputs": [
        {
          "output_type": "execute_result",
          "data": {
            "text/plain": [
              "True"
            ]
          },
          "metadata": {},
          "execution_count": 15
        }
      ]
    },
    {
      "cell_type": "markdown",
      "source": [
        "15. Can you modify the elements of a tuple? Explain why or why not.\n",
        "\n",
        "Ans>> No. Tuples are immutable, meaning once created, their elements cannot be changed, added, or removed. Attempting to do so will raise a TypeError."
      ],
      "metadata": {
        "id": "kZsrZ14Env-i"
      }
    },
    {
      "cell_type": "markdown",
      "source": [
        "16. What is a nested dictionary, and give an example of its use case?\n",
        "\n",
        "Ans>> A nested dictionary is a dictionary where each value is another dictionary. It's useful for representing hierarchical data.\n",
        "Example:\n",
        "\n"
      ],
      "metadata": {
        "id": "ZRKqsKUNoAwW"
      }
    },
    {
      "cell_type": "code",
      "source": [
        "employees = {\n",
        "    \"101\": {\"name\": \"Alice\", \"role\": \"Engineer\"},\n",
        "    \"102\": {\"name\": \"Bob\", \"role\": \"Manager\"}\n",
        "}\n",
        "print(employees)"
      ],
      "metadata": {
        "colab": {
          "base_uri": "https://localhost:8080/"
        },
        "id": "dDH4qr26nXdK",
        "outputId": "0768b631-5c5a-42a1-db85-8da6e31d49a8"
      },
      "execution_count": null,
      "outputs": [
        {
          "output_type": "stream",
          "name": "stdout",
          "text": [
            "{'101': {'name': 'Alice', 'role': 'Engineer'}, '102': {'name': 'Bob', 'role': 'Manager'}}\n"
          ]
        }
      ]
    },
    {
      "cell_type": "markdown",
      "source": [
        "17. Describe the time complexity of accessing elements in a dictionary.\n",
        "\n",
        "\n",
        "Ans>>Average case: O(1) – due to hash table implementation\n",
        "\n",
        "Worst case: O(n) – in case of hash collisions (rare)\n",
        "\n",
        "\n"
      ],
      "metadata": {
        "id": "IYa3a_f16Lpj"
      }
    },
    {
      "cell_type": "markdown",
      "source": [
        "18.  In what situations are lists preferred over dictionaries?\n",
        "\n",
        "Ans>>Lists are preferred when:\n",
        "\n",
        "1.Order of elements matters\n",
        "\n",
        "2.Data is sequential and does not require a key-value structure\n",
        "\n",
        "3.Memory usage must be minimized (lists are lighter than dicts)"
      ],
      "metadata": {
        "id": "B2krW3Ls6omS"
      }
    },
    {
      "cell_type": "markdown",
      "source": [
        "19. Why are dictionaries considered unordered, and how does that affect data retrieval?\n",
        "\n",
        "Ans>>In Python versions < 3.7, dictionaries were unordered, meaning insertion order was not preserved. Since Python 3.7+, insertion order is preserved. However, conceptually, dictionaries prioritize key-based access over element position.\n",
        "\n"
      ],
      "metadata": {
        "id": "Hl25lcuB6_wz"
      }
    },
    {
      "cell_type": "markdown",
      "source": [
        "20. Explain the difference between a list and a dictionary in terms of data retrieval.\n",
        "\n",
        "Ans>> List:\n",
        "\n",
        "\n",
        "Data retrieval is position-based (index-based).\n",
        "\n",
        "You access elements using integer indices starting from 0.\n",
        "\n",
        "Time complexity for accessing an element by index is O(1) (very fast)."
      ],
      "metadata": {
        "id": "d9dIAO0Q7TB6"
      }
    },
    {
      "cell_type": "code",
      "source": [
        "\n",
        "my_list = ['apple', 'banana', 'cherry']\n",
        "print(my_list[1])  # Output: 'banana'"
      ],
      "metadata": {
        "colab": {
          "base_uri": "https://localhost:8080/"
        },
        "id": "z4Hklyi2odDV",
        "outputId": "fdec6ee3-596a-4a48-c565-ad4c2df92d27"
      },
      "execution_count": null,
      "outputs": [
        {
          "output_type": "stream",
          "name": "stdout",
          "text": [
            "banana\n"
          ]
        }
      ]
    },
    {
      "cell_type": "markdown",
      "source": [
        " Dictionary:\n",
        "\n",
        "\n",
        "Data retrieval is key-based.\n",
        "\n",
        "You access elements using unique keys (not limited to integers).\n",
        "\n",
        "Time complexity for key-based access is also O(1) on average, thanks to hash tables.\n",
        "\n",
        "Example:\n",
        "\n"
      ],
      "metadata": {
        "id": "OKA6UrIT76-H"
      }
    },
    {
      "cell_type": "code",
      "source": [
        "\n",
        "my_dict = {'a': 'apple', 'b': 'banana', 'c': 'cherry'}\n",
        "print(my_dict['b'])  # Output: 'banana'"
      ],
      "metadata": {
        "colab": {
          "base_uri": "https://localhost:8080/"
        },
        "id": "SGEkT3Gq71XO",
        "outputId": "a5b15d21-322c-48bf-de9b-e545b2dfa3fb"
      },
      "execution_count": null,
      "outputs": [
        {
          "output_type": "stream",
          "name": "stdout",
          "text": [
            "banana\n"
          ]
        }
      ]
    },
    {
      "cell_type": "markdown",
      "source": [
        "**Practical Questions**"
      ],
      "metadata": {
        "id": "mCclMmAG8wf6"
      }
    },
    {
      "cell_type": "code",
      "source": [
        "#1. Write a code to create a string with your name and print it.\n",
        "\n",
        "\n",
        "my_name = \"Sudiptaa\"\n",
        "print(\"My name is:\", my_name)\n"
      ],
      "metadata": {
        "colab": {
          "base_uri": "https://localhost:8080/"
        },
        "id": "nf7v_UNa8Lu3",
        "outputId": "441859f1-efe8-4093-f7e9-eedae484318f"
      },
      "execution_count": null,
      "outputs": [
        {
          "output_type": "stream",
          "name": "stdout",
          "text": [
            "My name is: Sudiptaa\n"
          ]
        }
      ]
    },
    {
      "cell_type": "code",
      "source": [
        "#2.Write a code to find the length of the string \"Hello World\"\n",
        "\n",
        "text = \"Hello World\"\n",
        "print(\"Length of the string is:\", len(text))\n"
      ],
      "metadata": {
        "colab": {
          "base_uri": "https://localhost:8080/"
        },
        "id": "YtFQd9sf9agw",
        "outputId": "b9a70536-09de-49a6-e3d0-73abf2c2a193"
      },
      "execution_count": null,
      "outputs": [
        {
          "output_type": "stream",
          "name": "stdout",
          "text": [
            "Length of the string is: 11\n"
          ]
        }
      ]
    },
    {
      "cell_type": "code",
      "source": [
        "#3.Write a code to slice the first 3 characters from the string \"Python Programming\"\n",
        "\n",
        "text = \"Python Programming\"\n",
        "print(text[:3])"
      ],
      "metadata": {
        "colab": {
          "base_uri": "https://localhost:8080/"
        },
        "id": "VP3UaMWa92Dh",
        "outputId": "b4986396-3f0e-450d-ac39-553582f083cc"
      },
      "execution_count": null,
      "outputs": [
        {
          "output_type": "stream",
          "name": "stdout",
          "text": [
            "Pyt\n"
          ]
        }
      ]
    },
    {
      "cell_type": "code",
      "source": [
        "#4.Write a code to convert the string \"hello\" to uppercase\n",
        "\n",
        "text = \"hello\"\n",
        "print(text.upper())"
      ],
      "metadata": {
        "colab": {
          "base_uri": "https://localhost:8080/"
        },
        "id": "N5Xa2q3z995n",
        "outputId": "3cc389be-834a-48ee-975d-d09be8d388d8"
      },
      "execution_count": null,
      "outputs": [
        {
          "output_type": "stream",
          "name": "stdout",
          "text": [
            "HELLO\n"
          ]
        }
      ]
    },
    {
      "cell_type": "code",
      "source": [
        "#5.Write a code to replace the word \"apple\" with \"orange\" in the string \"I like apple\"\n",
        "\n",
        "\n",
        "sentence = \"I like apple\"\n",
        "print(sentence.replace(\"apple\", \"orange\"))"
      ],
      "metadata": {
        "colab": {
          "base_uri": "https://localhost:8080/"
        },
        "id": "9sjy9CIP9_gh",
        "outputId": "0e47287f-b4f0-4a8f-fb78-278a7580e9bb"
      },
      "execution_count": null,
      "outputs": [
        {
          "output_type": "stream",
          "name": "stdout",
          "text": [
            "I like orange\n"
          ]
        }
      ]
    },
    {
      "cell_type": "code",
      "source": [
        "#6.Write a code to create a list with numbers 1 to 5 and print it\n",
        "\n",
        "numbers = [1, 2, 3, 4, 5]\n",
        "print(numbers)\n"
      ],
      "metadata": {
        "colab": {
          "base_uri": "https://localhost:8080/"
        },
        "id": "LqS2glGj-BMP",
        "outputId": "e4c09975-5295-4591-e3db-6ba0889d0579"
      },
      "execution_count": null,
      "outputs": [
        {
          "output_type": "stream",
          "name": "stdout",
          "text": [
            "[1, 2, 3, 4, 5]\n"
          ]
        }
      ]
    },
    {
      "cell_type": "code",
      "source": [
        "#7.Write a code to append the number 10 to the list [1, 2, 3, 4]\n",
        "\n",
        "\n",
        "my_list = [1, 2, 3, 4]\n",
        "my_list.append(10)\n",
        "print(my_list)"
      ],
      "metadata": {
        "colab": {
          "base_uri": "https://localhost:8080/"
        },
        "id": "HDiqOE4v-Cdt",
        "outputId": "646746f3-7080-4fac-af12-a515eaea78bd"
      },
      "execution_count": null,
      "outputs": [
        {
          "output_type": "stream",
          "name": "stdout",
          "text": [
            "[1, 2, 3, 4, 10]\n"
          ]
        }
      ]
    },
    {
      "cell_type": "code",
      "source": [
        "#8.Write a code to remove the number 3 from the list [1, 2, 3, 4, 5]\n",
        "\n",
        "\n",
        "numbers = [1, 2, 3, 4, 5]\n",
        "numbers.remove(3)\n",
        "print(numbers)\n"
      ],
      "metadata": {
        "colab": {
          "base_uri": "https://localhost:8080/"
        },
        "id": "2qUG-yCx-Ddi",
        "outputId": "3d76577f-85f2-4745-a630-7e594e560639"
      },
      "execution_count": null,
      "outputs": [
        {
          "output_type": "stream",
          "name": "stdout",
          "text": [
            "[1, 2, 4, 5]\n"
          ]
        }
      ]
    },
    {
      "cell_type": "code",
      "source": [
        "#9.Write a code to access the second element in the list ['a', 'b', 'c', 'd']\n",
        "\n",
        "\n",
        "letters = ['a', 'b', 'c', 'd']\n",
        "print(letters[1])"
      ],
      "metadata": {
        "colab": {
          "base_uri": "https://localhost:8080/"
        },
        "id": "qq_v65OS-Egy",
        "outputId": "5286ed0d-7e87-4f4a-db07-7653d6605b12"
      },
      "execution_count": null,
      "outputs": [
        {
          "output_type": "stream",
          "name": "stdout",
          "text": [
            "b\n"
          ]
        }
      ]
    },
    {
      "cell_type": "code",
      "source": [
        "#10.Write a code to reverse the list [10, 20, 30, 40, 50]\n",
        "\n",
        "\n",
        "nums = [10, 20, 30, 40, 50]\n",
        "print(nums[::-1])"
      ],
      "metadata": {
        "colab": {
          "base_uri": "https://localhost:8080/"
        },
        "id": "Ozr7njio-HP0",
        "outputId": "add18983-067f-4769-9c4d-47c7babc7de5"
      },
      "execution_count": null,
      "outputs": [
        {
          "output_type": "stream",
          "name": "stdout",
          "text": [
            "[50, 40, 30, 20, 10]\n"
          ]
        }
      ]
    },
    {
      "cell_type": "code",
      "source": [
        "#11.Write a code to create a tuple with the elements 100, 200, 300 and print it.\n",
        "\n",
        "my_tuple = (100, 200, 300)\n",
        "print(my_tuple)\n"
      ],
      "metadata": {
        "colab": {
          "base_uri": "https://localhost:8080/"
        },
        "id": "9CvA2ya_-Iw3",
        "outputId": "6938389a-9df0-4b55-e514-402cb50bbef7"
      },
      "execution_count": null,
      "outputs": [
        {
          "output_type": "stream",
          "name": "stdout",
          "text": [
            "(100, 200, 300)\n"
          ]
        }
      ]
    },
    {
      "cell_type": "code",
      "source": [
        "#12.Write a code to access the second-to-last element of the tuple ('red', 'green', 'blue', 'yellow').\n",
        "\n",
        "\n",
        "colors = ('red', 'green', 'blue', 'yellow')\n",
        "print(colors[-2])"
      ],
      "metadata": {
        "colab": {
          "base_uri": "https://localhost:8080/"
        },
        "id": "Difsg0g3-R1F",
        "outputId": "33737202-3d0d-40b7-9b69-5bcdb98201f2"
      },
      "execution_count": null,
      "outputs": [
        {
          "output_type": "stream",
          "name": "stdout",
          "text": [
            "blue\n"
          ]
        }
      ]
    },
    {
      "cell_type": "code",
      "source": [
        "#13.Write a code to find the minimum number in the tuple (10, 20, 5, 15).\n",
        "\n",
        "numbers = (10, 20, 5, 15)\n",
        "print(min(numbers))\n"
      ],
      "metadata": {
        "colab": {
          "base_uri": "https://localhost:8080/"
        },
        "id": "TixAs-BR-S49",
        "outputId": "9aa73492-945e-4219-da28-4346dc058733"
      },
      "execution_count": null,
      "outputs": [
        {
          "output_type": "stream",
          "name": "stdout",
          "text": [
            "5\n"
          ]
        }
      ]
    },
    {
      "cell_type": "code",
      "source": [
        "#14. Write a code to find the index of the element \"cat\" in the tuple ('dog', 'cat', 'rabbit').\n",
        "\n",
        "\n",
        "animals = ('dog', 'cat', 'rabbit')\n",
        "print(animals.index('cat'))"
      ],
      "metadata": {
        "id": "n4Y2w1XQ-Uu8"
      },
      "execution_count": null,
      "outputs": []
    },
    {
      "cell_type": "code",
      "source": [
        "#15.Write a code to create a tuple containing three different fruits and check if \"kiwi\" is in it.\n",
        "\n",
        "\n",
        "fruits = ('apple', 'banana', 'kiwi')\n",
        "print(\"kiwi\" in fruits)"
      ],
      "metadata": {
        "colab": {
          "base_uri": "https://localhost:8080/"
        },
        "id": "i7hpcDZJ-W12",
        "outputId": "dc50f6aa-b036-4897-9fe4-326ecf0b43a6"
      },
      "execution_count": null,
      "outputs": [
        {
          "output_type": "stream",
          "name": "stdout",
          "text": [
            "True\n"
          ]
        }
      ]
    },
    {
      "cell_type": "code",
      "source": [
        "#16. Write a code to create a set with the elements 'a', 'b', 'c' and print it.\n",
        "\n",
        "\n",
        "my_set = {'a', 'b', 'c'}\n",
        "print(my_set)"
      ],
      "metadata": {
        "colab": {
          "base_uri": "https://localhost:8080/"
        },
        "id": "PZMKhn0P-X5O",
        "outputId": "a9a92e40-4d44-4e58-a39c-41ca5f41c067"
      },
      "execution_count": null,
      "outputs": [
        {
          "output_type": "stream",
          "name": "stdout",
          "text": [
            "{'b', 'c', 'a'}\n"
          ]
        }
      ]
    },
    {
      "cell_type": "code",
      "source": [
        "#17. Write a code to clear all elements from the set {1, 2, 3, 4, 5}.\n",
        "\n",
        "\n",
        "s = {1, 2, 3, 4, 5}\n",
        "s.clear()\n",
        "print(s)"
      ],
      "metadata": {
        "colab": {
          "base_uri": "https://localhost:8080/"
        },
        "id": "KTT9G_j5-cC8",
        "outputId": "0aa5257a-39cc-4d3d-8db6-ad7884ecf27e"
      },
      "execution_count": null,
      "outputs": [
        {
          "output_type": "stream",
          "name": "stdout",
          "text": [
            "set()\n"
          ]
        }
      ]
    },
    {
      "cell_type": "code",
      "source": [
        "#18.Write a code to remove the element 4 from the set {1, 2, 3, 4}.\n",
        "\n",
        "\n",
        "s = {1, 2, 3, 4}\n",
        "s.remove(4)\n",
        "print(s)"
      ],
      "metadata": {
        "colab": {
          "base_uri": "https://localhost:8080/"
        },
        "id": "SY_B7Hmh-fkR",
        "outputId": "ac4f7972-2ab5-4b9c-b7e2-3917dfeebd09"
      },
      "execution_count": null,
      "outputs": [
        {
          "output_type": "stream",
          "name": "stdout",
          "text": [
            "{1, 2, 3}\n"
          ]
        }
      ]
    },
    {
      "cell_type": "code",
      "source": [
        "#19.. Write a code to find the union of two sets {1, 2, 3} and {3, 4, 5}.\n",
        "\n",
        "\n",
        "a = {1, 2, 3}\n",
        "b = {3, 4, 5}\n",
        "print(a.union(b))"
      ],
      "metadata": {
        "colab": {
          "base_uri": "https://localhost:8080/"
        },
        "id": "4WlIDxeu-hap",
        "outputId": "7ad7f876-51b6-429a-8295-4731e383b61c"
      },
      "execution_count": null,
      "outputs": [
        {
          "output_type": "stream",
          "name": "stdout",
          "text": [
            "{1, 2, 3, 4, 5}\n"
          ]
        }
      ]
    },
    {
      "cell_type": "code",
      "source": [
        "#20.Write a code to find the intersection of two sets {1, 2, 3} and {2, 3, 4}.\n",
        "\n",
        "\n",
        "a = {1, 2, 3}\n",
        "b = {2, 3, 4}\n",
        "print(a.intersection(b))"
      ],
      "metadata": {
        "colab": {
          "base_uri": "https://localhost:8080/"
        },
        "id": "ioWiqgf5-iY4",
        "outputId": "7a30db99-6e8c-4f92-fe91-e22ce8ffb8ce"
      },
      "execution_count": null,
      "outputs": [
        {
          "output_type": "stream",
          "name": "stdout",
          "text": [
            "{2, 3}\n"
          ]
        }
      ]
    },
    {
      "cell_type": "code",
      "source": [
        "#21.Write a code to create a dictionary with the keys \"name\", \"age\", and \"city\", and print it.\n",
        "\n",
        "\n",
        "info = {\"name\": \"Alex\", \"age\": 28, \"city\": \"Mumbai\"}\n",
        "print(info)"
      ],
      "metadata": {
        "id": "bXKza7dI-jcP"
      },
      "execution_count": null,
      "outputs": []
    },
    {
      "cell_type": "code",
      "source": [
        "#22.Write a code to add a new key-value pair \"country\": \"USA\" to the dictionary {'name': 'John', 'age': 25}.\n",
        "\n",
        "person = {'name': 'John', 'age': 25}\n",
        "person['country'] = 'USA'\n",
        "print(person)\n"
      ],
      "metadata": {
        "colab": {
          "base_uri": "https://localhost:8080/"
        },
        "id": "JkLoZYzT-lQV",
        "outputId": "017d4424-7ab2-4011-ee05-1ec2c6c5441e"
      },
      "execution_count": null,
      "outputs": [
        {
          "output_type": "stream",
          "name": "stdout",
          "text": [
            "{'name': 'John', 'age': 25, 'country': 'USA'}\n"
          ]
        }
      ]
    },
    {
      "cell_type": "code",
      "source": [
        "#23. Write a code to access the value associated with the key \"name\" in the dictionary {'name': 'Alice', 'age': 30}.\n",
        "\n",
        "data = {'name': 'Alice', 'age': 30}\n",
        "print(data['name'])"
      ],
      "metadata": {
        "colab": {
          "base_uri": "https://localhost:8080/"
        },
        "id": "gHX4ym1w-n8z",
        "outputId": "2a6804ea-56c8-4e63-cd5a-381069054814"
      },
      "execution_count": null,
      "outputs": [
        {
          "output_type": "stream",
          "name": "stdout",
          "text": [
            "Alice\n"
          ]
        }
      ]
    },
    {
      "cell_type": "code",
      "source": [
        "#24. Write a code to remove the key \"age\" from the dictionary {'name': 'Bob', 'age': 22, 'city': 'New York'}.\n",
        "\n",
        "\n",
        "profile = {'name': 'Bob', 'age': 22, 'city': 'New York'}\n",
        "profile.pop('age')\n",
        "print(profile)"
      ],
      "metadata": {
        "colab": {
          "base_uri": "https://localhost:8080/"
        },
        "id": "me5RNGmU-rBd",
        "outputId": "b9cd41f5-e431-4c74-ac79-c1faa3b5e8ed"
      },
      "execution_count": null,
      "outputs": [
        {
          "output_type": "stream",
          "name": "stdout",
          "text": [
            "{'name': 'Bob', 'city': 'New York'}\n"
          ]
        }
      ]
    },
    {
      "cell_type": "code",
      "source": [
        "#25.Write a code to check if the key \"city\" exists in the dictionary {'name': 'Alice', 'city': 'Paris'}.\n",
        "\n",
        "\n",
        "d = {'name': 'Alice', 'city': 'Paris'}\n",
        "print(\"city\" in d)"
      ],
      "metadata": {
        "colab": {
          "base_uri": "https://localhost:8080/"
        },
        "id": "b_8WiOCx-s6T",
        "outputId": "b3e08b03-ae5f-4734-f64c-09f4fabbd408"
      },
      "execution_count": null,
      "outputs": [
        {
          "output_type": "stream",
          "name": "stdout",
          "text": [
            "True\n"
          ]
        }
      ]
    },
    {
      "cell_type": "code",
      "source": [
        "#26.Write a code to create a list, a tuple, and a dictionary, and print them all.\n",
        "\n",
        "my_list = [1, 2, 3]\n",
        "my_tuple = (4, 5, 6)\n",
        "my_dict = {'a': 7, 'b': 8}\n",
        "print(my_list, my_tuple, my_dict)\n"
      ],
      "metadata": {
        "colab": {
          "base_uri": "https://localhost:8080/"
        },
        "id": "8zEV6q78-u7v",
        "outputId": "05f606d5-ba05-43ce-fe6d-e413aac99c5a"
      },
      "execution_count": null,
      "outputs": [
        {
          "output_type": "stream",
          "name": "stdout",
          "text": [
            "[1, 2, 3] (4, 5, 6) {'a': 7, 'b': 8}\n"
          ]
        }
      ]
    },
    {
      "cell_type": "code",
      "source": [
        "#27.Write a code to create a list of 5 random numbers between 1 and 100, sort it in ascending order, and print the result.\n",
        "\n",
        "\n",
        "import random\n",
        "nums = random.sample(range(1, 101), 5)\n",
        "nums.sort()\n",
        "print(nums)"
      ],
      "metadata": {
        "colab": {
          "base_uri": "https://localhost:8080/"
        },
        "id": "rvvnpy2b-wK6",
        "outputId": "01df0e7a-6b30-47dc-ae5c-b4aa041aeda8"
      },
      "execution_count": null,
      "outputs": [
        {
          "output_type": "stream",
          "name": "stdout",
          "text": [
            "[1, 11, 25, 31, 70]\n"
          ]
        }
      ]
    },
    {
      "cell_type": "code",
      "source": [
        "#28.Write a code to create a list with strings and print the element at the third index.\n",
        "\n",
        "\n",
        "words = ['apple', 'banana', 'cherry', 'date', 'elderberry']\n",
        "print(words[3])"
      ],
      "metadata": {
        "colab": {
          "base_uri": "https://localhost:8080/"
        },
        "id": "jw28Tvy1-yhO",
        "outputId": "ca86c9a2-2b4e-4e59-f441-bf834795aa3b"
      },
      "execution_count": null,
      "outputs": [
        {
          "output_type": "stream",
          "name": "stdout",
          "text": [
            "date\n"
          ]
        }
      ]
    },
    {
      "cell_type": "code",
      "source": [
        "#29. Write a code to combine two dictionaries into one and print the result.\n",
        "\n",
        "dict1 = {'a': 1, 'b': 2}\n",
        "dict2 = {'c': 3, 'd': 4}\n",
        "combined = {**dict1, **dict2}\n",
        "print(combined)"
      ],
      "metadata": {
        "colab": {
          "base_uri": "https://localhost:8080/"
        },
        "id": "Q1d_j7Vk-1HK",
        "outputId": "be74f0d6-8a12-46ce-bc3e-31764246d2ab"
      },
      "execution_count": null,
      "outputs": [
        {
          "output_type": "stream",
          "name": "stdout",
          "text": [
            "{'a': 1, 'b': 2, 'c': 3, 'd': 4}\n"
          ]
        }
      ]
    },
    {
      "cell_type": "code",
      "source": [
        "#30.Write a code to convert a list of strings into a set.\n",
        "\n",
        "\n",
        "items = ['pen', 'book', 'pen', 'pencil']\n",
        "unique_items = set(items)\n",
        "print(unique_items)\n"
      ],
      "metadata": {
        "colab": {
          "base_uri": "https://localhost:8080/"
        },
        "id": "f2tsK906-2Fl",
        "outputId": "6a2dde04-fac5-4f1e-c0d3-8a8467746197"
      },
      "execution_count": null,
      "outputs": [
        {
          "output_type": "stream",
          "name": "stdout",
          "text": [
            "{'book', 'pencil', 'pen'}\n"
          ]
        }
      ]
    }
  ]
}